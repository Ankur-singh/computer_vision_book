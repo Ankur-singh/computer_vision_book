{
 "cells": [
  {
   "cell_type": "markdown",
   "metadata": {
    "colab_type": "text",
    "id": "7kLOGqAXDHin"
   },
   "source": [
    "### Lane Detection\n",
    "\n",
    "Lane detection is a critical component of self-driving cars and autonomous vehicles. Once lane positions are obtained, the vehicle will know where to go and avoid the risk of running into other lanes or getting off the road. This can prevent the driver/car system from drifting off the driving lane.\n",
    "\n",
    "The task that we are trying to perform is that of real-time lane detection in a video. [Click here](https://www.linkedin.com/posts/pranav-uikey-b49360140_machinelearning-selfdrivingcars-activity-6701729324074115073-Hd8d) to see how the final out will look like.\n",
    "\n",
    "Lets start by importing all the necessary libraries"
   ]
  },
  {
   "cell_type": "code",
   "execution_count": 4,
   "metadata": {
    "colab": {},
    "colab_type": "code",
    "id": "GtH-jDgqDHio"
   },
   "outputs": [],
   "source": [
    "import cv2\n",
    "import numpy as np"
   ]
  },
  {
   "cell_type": "markdown",
   "metadata": {},
   "source": [
    "Next, we need to download the video file. We have already written a helper function to download any file from google drive. Lets import it from `utils.py`"
   ]
  },
  {
   "cell_type": "code",
   "execution_count": 1,
   "metadata": {},
   "outputs": [],
   "source": [
    "from utils import download_from_google_drive"
   ]
  },
  {
   "cell_type": "code",
   "execution_count": 2,
   "metadata": {},
   "outputs": [
    {
     "name": "stdout",
     "output_type": "stream",
     "text": [
      "Downloading 1uqtYcogGc121DZK3eEfXz9yrXzIVtFAk into ./lane_detection.mp4... \n",
      "21.0 MiB     Done.\n"
     ]
    }
   ],
   "source": [
    "download_from_google_drive(file_id='1uqtYcogGc121DZK3eEfXz9yrXzIVtFAk', \n",
    "                           dest_path='./lane_detection.mp4', \n",
    "                           showsize=True)"
   ]
  },
  {
   "cell_type": "markdown",
   "metadata": {},
   "source": [
    "Now, you should have *lane_detection.mp4* in your present working directory."
   ]
  },
  {
   "cell_type": "markdown",
   "metadata": {},
   "source": [
    "We will now define some helper functions. Everything we are doing here is already discussed in the previous notebooks."
   ]
  },
  {
   "cell_type": "code",
   "execution_count": 7,
   "metadata": {
    "colab": {},
    "colab_type": "code",
    "id": "11hioiw8DHis"
   },
   "outputs": [],
   "source": [
    "def canny(image):\n",
    "    gray = cv2.cvtColor(image,cv2.COLOR_BGR2GRAY) \n",
    "    blur = cv2.GaussianBlur(gray,(5,5),0)\n",
    "    canny = cv2.Canny(blur,50,150)\n",
    "    return canny\n",
    "\n",
    "def display_lines(image,lines):\n",
    "    line_image = np.zeros_like(image)\n",
    "    if lines is not None:\n",
    "        for line in lines:\n",
    "            x1,y1,x2,y2 = line.reshape(4)\n",
    "            cv2.line(line_image,(x1,y1),(x2,y2),(255,0,0),10)\n",
    "    return line_image\n",
    "\n",
    "def roi(image):\n",
    "    height = image.shape[0]\n",
    "    polygons = np.array([\n",
    "        [(0,650),(1250,650),(700,300)]\n",
    "    ])\n",
    "    mask = np.zeros_like(image)\n",
    "    cv2.fillConvexPoly(mask,polygons,1)\n",
    "    masked_image = cv2.bitwise_and(image,mask)\n",
    "    return masked_image"
   ]
  },
  {
   "cell_type": "markdown",
   "metadata": {
    "colab_type": "text",
    "id": "P2_yMac0DHiu"
   },
   "source": [
    "Let's Try things out on an image first then we will work on a video."
   ]
  },
  {
   "cell_type": "code",
   "execution_count": 5,
   "metadata": {},
   "outputs": [],
   "source": [
    "cap = cv2.VideoCapture('lane_detection.mp4')\n",
    "ret, image = cap.read()\n",
    "cap.release()"
   ]
  },
  {
   "cell_type": "markdown",
   "metadata": {},
   "source": [
    "Above, we have taken the first frame of our video. Lets work with this frame first and then extent the application to work with video."
   ]
  },
  {
   "cell_type": "code",
   "execution_count": 8,
   "metadata": {
    "colab": {},
    "colab_type": "code",
    "id": "LgL9cwgODHiv",
    "outputId": "11cdbfd9-afbc-4787-fc44-087abee3e3e5"
   },
   "outputs": [],
   "source": [
    "canny_image = canny(image)\n",
    "masked_image = roi(canny_image)\n",
    "\n",
    "lines = cv2.HoughLinesP(masked_image, 2, np.pi/180, 100, minLineLength=40, maxLineGap=5)\n",
    "line_image = display_lines(image, lines)\n",
    "final_image = cv2.addWeighted(image, 0.7, line_image, 1, 1)\n",
    "\n",
    "cv2.imshow('Original Image', image)\n",
    "cv2.imshow('Canny Image', canny_image)\n",
    "cv2.imshow('Final Image', final_image)\n",
    "cv2.waitKey(0)\n",
    "cv2.destroyAllWindows()"
   ]
  },
  {
   "cell_type": "markdown",
   "metadata": {},
   "source": [
    "We apply canny edge detection, then select only the lower half of the image which has road in it (the sky and tree are not important). And then we passed our masked image to `cv2.HoughLinesP`, read more about it online. Finally, we used `cv2.addWeighted` to combine our original image and *line_image*. Its a pretty simple function and you can read more about it [here](https://docs.opencv.org/2.4/modules/core/doc/operations_on_arrays.html#addweighted).\n",
    "\n",
    "Great, we can now detect lane in a single image. Lets make it work with videos. "
   ]
  },
  {
   "cell_type": "code",
   "execution_count": 10,
   "metadata": {
    "colab": {},
    "colab_type": "code",
    "id": "B3iAgo9DDHiy"
   },
   "outputs": [],
   "source": [
    "cap = cv2.VideoCapture('lane_detection.mp4')\n",
    "while True:\n",
    "    ret, image = cap.read()\n",
    "\n",
    "    if not ret:\n",
    "        break\n",
    "    canny_image = canny(image)\n",
    "    cropped_image = roi(canny_image)\n",
    "    lines = cv2.HoughLinesP(cropped_image, 2, np.pi/180, 100, minLineLength=40, maxLineGap=5)\n",
    "    line_image = display_lines(image, lines)\n",
    "    combined_image = cv2.addWeighted(image, 0.7, line_image, 1, 1)\n",
    "    combined_image = cv2.resize(combined_image, (0, 0), fx=0.5, fy=0.5)\n",
    "    cv2.imshow('Lane Detection', combined_image)\n",
    "    if cv2.waitKey(1) & 0XFF==ord('q'):\n",
    "        break\n",
    "        \n",
    "cap.release()\n",
    "cv2.destroyAllWindows()"
   ]
  },
  {
   "cell_type": "markdown",
   "metadata": {},
   "source": [
    "Making a real-time application is not very difficult. Also, the video is running at pretty high frame rate. The speed may vary depending upon your processor speed but the important point here is over computers are powerful enough to do all of it in couple of milli-seconds."
   ]
  }
 ],
 "metadata": {
  "colab": {
   "name": "Lane_detection.ipynb",
   "provenance": []
  },
  "kernelspec": {
   "display_name": "Python 3",
   "language": "python",
   "name": "python3"
  },
  "language_info": {
   "codemirror_mode": {
    "name": "ipython",
    "version": 3
   },
   "file_extension": ".py",
   "mimetype": "text/x-python",
   "name": "python",
   "nbconvert_exporter": "python",
   "pygments_lexer": "ipython3",
   "version": "3.7.4"
  }
 },
 "nbformat": 4,
 "nbformat_minor": 4
}
