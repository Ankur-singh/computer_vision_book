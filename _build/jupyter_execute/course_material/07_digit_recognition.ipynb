{
 "cells": [
  {
   "cell_type": "markdown",
   "metadata": {},
   "source": [
    "# Digit Recognition\n",
    "\n",
    "In the last notebook, we did a pretty good job. We were able to extra digits from an image and then classify them. Our model performed very poorly and we mentioned two reasons for it:\n",
    "1. Input images is different than training images.\n",
    "2. Current features (flatten image) are very poor at capturing information.\n",
    "\n",
    "There are many things that you can do to make our input images look similar to training images, and to make our features capture more information from the images. We will be learning some of the available techniques."
   ]
  },
  {
   "cell_type": "markdown",
   "metadata": {},
   "source": [
    "We will start by importing some libraries that we will be using. "
   ]
  },
  {
   "cell_type": "code",
   "execution_count": 4,
   "metadata": {},
   "outputs": [],
   "source": [
    "import cv2\n",
    "import joblib\n",
    "import numpy as np\n",
    "import matplotlib.pyplot as plt"
   ]
  },
  {
   "cell_type": "markdown",
   "metadata": {},
   "source": [
    "some helper functions from the last notebook to read, display and process image "
   ]
  },
  {
   "cell_type": "code",
   "execution_count": 5,
   "metadata": {},
   "outputs": [],
   "source": [
    "def read_img(path):\n",
    "    img = cv2.imread(path)\n",
    "    return img\n",
    "\n",
    "def plot_img(img):\n",
    "    plt.axis(False)\n",
    "    plt.imshow(img, cmap='gray');\n",
    "    \n",
    "def process_img(img, gray=False):\n",
    "    img = cv2.resize(img, (28,28))\n",
    "    if not gray:\n",
    "        img = cv2.cvtColor(img, cv2.COLOR_BGR2GRAY)\n",
    "    blurred = cv2.GaussianBlur(img, (3, 3), 0)\n",
    "    final = cv2.adaptiveThreshold(blurred, 255, cv2.ADAPTIVE_THRESH_MEAN_C, cv2.THRESH_BINARY_INV, 3, 4)\n",
    "    return final.reshape(-1)"
   ]
  },
  {
   "cell_type": "markdown",
   "metadata": {},
   "source": [
    "So, lets continue where we left i.e.\n",
    "- read the image\n",
    "- apply gaussian blur\n",
    "- apply canny edge detection\n",
    "- find all the contours in the images"
   ]
  },
  {
   "cell_type": "code",
   "execution_count": 3,
   "metadata": {},
   "outputs": [
    {
     "data": {
      "text/plain": [
       "6"
      ]
     },
     "execution_count": 3,
     "metadata": {},
     "output_type": "execute_result"
    }
   ],
   "source": [
    "digits = cv2.imread('images/digits.png')\n",
    "blurred = cv2.GaussianBlur(digits, (7, 7), 0)\n",
    "edged = cv2.Canny(blurred, 30, 150)\n",
    "cnts, _ = cv2.findContours(edged.copy(), cv2.RETR_EXTERNAL, cv2.CHAIN_APPROX_SIMPLE)\n",
    "len(cnts)"
   ]
  },
  {
   "cell_type": "markdown",
   "metadata": {},
   "source": [
    "## Other than training images\n",
    "\n",
    "Machine learning models (here SVM) are very dumb. They perform really well on training data, but they don't generalize well to outside data. So, special care has to be taken while preprocessing outside data before feeding it into the model. \n",
    "\n",
    "Lets take a look at our digit images that we are feeding into our model. Here I'm selecting *digit 1* for better understanding because the differences in input image and training image are much more prominent. *Digit 1* is the 3rd (i.e. index = 2) element of the `cnts` list."
   ]
  },
  {
   "cell_type": "code",
   "execution_count": 5,
   "metadata": {},
   "outputs": [
    {
     "data": {
      "image/png": "[encoded data removed]",
      "text/plain": [
       "<Figure size 432x288 with 1 Axes>"
      ]
     },
     "metadata": {
      "filenames": {
       "image/png": "/mnt/d/aiadventures/Moodle_Courses/computer_vision_books/_build/jupyter_execute/course_material/07_digit_recognition_8_0.png"
      },
      "needs_background": "light"
     },
     "output_type": "display_data"
    }
   ],
   "source": [
    "temp = digits.copy()\n",
    "(x, y, w, h) = cv2.boundingRect(cnts[2])\n",
    "roi = temp[y:y + h, x:x + w]\n",
    "roi = process_img(roi)\n",
    "plot_img(roi.reshape(28, 28))"
   ]
  },
  {
   "cell_type": "markdown",
   "metadata": {},
   "source": [
    "This is how it look. What do you think of it? Does it look like *1*? \n",
    "\n",
    "All our training images are 28 x 28 pixels. So, digit 1 has a lot of padding, on either side, in all our training images. Infact every digit has padding, but here our bounding boxes are edge-to-edge. Lets solve this problem by adding some padding to all our bounding boxes."
   ]
  },
  {
   "cell_type": "code",
   "execution_count": 6,
   "metadata": {},
   "outputs": [
    {
     "data": {
      "image/png": "[encoded data removed]",
      "text/plain": [
       "<Figure size 432x288 with 1 Axes>"
      ]
     },
     "metadata": {
      "filenames": {
       "image/png": "/mnt/d/aiadventures/Moodle_Courses/computer_vision_books/_build/jupyter_execute/course_material/07_digit_recognition_10_0.png"
      },
      "needs_background": "light"
     },
     "output_type": "display_data"
    }
   ],
   "source": [
    "temp = digits.copy()\n",
    "(x, y, w, h) = cv2.boundingRect(cnts[2])\n",
    "x, y, w, h = x-20, y-20, w+40, h+40  # extra padding\n",
    "roi = temp[y:y + h, x:x + w]\n",
    "roi = process_img(roi)\n",
    "plot_img(roi.reshape(28, 28))"
   ]
  },
  {
   "cell_type": "markdown",
   "metadata": {},
   "source": [
    "much better now. Lets see if this helps"
   ]
  },
  {
   "cell_type": "code",
   "execution_count": 7,
   "metadata": {},
   "outputs": [],
   "source": [
    "model = joblib.load('data/digit_svm.pkl')"
   ]
  },
  {
   "cell_type": "code",
   "execution_count": 9,
   "metadata": {},
   "outputs": [
    {
     "data": {
      "image/png": "[encoded data removed]",
      "text/plain": [
       "<Figure size 432x288 with 1 Axes>"
      ]
     },
     "metadata": {
      "filenames": {
       "image/png": "/mnt/d/aiadventures/Moodle_Courses/computer_vision_books/_build/jupyter_execute/course_material/07_digit_recognition_13_0.png"
      },
      "needs_background": "light"
     },
     "output_type": "display_data"
    }
   ],
   "source": [
    "temp = digits.copy()\n",
    "\n",
    "for c in cnts:\n",
    "    (x, y, w, h) = cv2.boundingRect(c)\n",
    "    x, y, w, h = x-20, y-20, w+40, h+40 # extra padding\n",
    "    roi = temp[y:y + h, x:x + w]\n",
    "    roi = process_img(roi)\n",
    "    pred = model.predict([roi])[0]\n",
    "    temp = cv2.rectangle(temp, (x,y), (x+w,y+h), (0,255,0), 2)\n",
    "    cv2.putText(temp, str(pred), (x - 40, y + 15), cv2.FONT_HERSHEY_SIMPLEX, 1.5, (0, 0, 255), 2)\n",
    "\n",
    "plot_img(temp)"
   ]
  },
  {
   "cell_type": "markdown",
   "metadata": {},
   "source": [
    "We are getting 3 predictions right this time, amazing! We can already see our model improving. \n",
    "\n",
    "Anonther problem is that the bounding box for 1 is very tall and very thin. So, when we resize it to 28 x 28, the output looks entirely different. We need a consistent representation of digits where all images are of the same width and height, with the digit placed at the center of the image. Just like our training data."
   ]
  },
  {
   "cell_type": "code",
   "execution_count": 10,
   "metadata": {},
   "outputs": [],
   "source": [
    "import mahotas"
   ]
  },
  {
   "cell_type": "code",
   "execution_count": 14,
   "metadata": {},
   "outputs": [],
   "source": [
    "def resize(image, width=None, height=None, inter=cv2.INTER_AREA):\n",
    "    (h, w) = image.shape[:2]\n",
    "    if width is None and height is None:\n",
    "        return image\n",
    "\n",
    "    dim = None\n",
    "    if width is None:\n",
    "        # calculate the ratio of the height and construct the dimensions\n",
    "        r = height / float(h)\n",
    "        dim = (int(w * r), height)\n",
    "\n",
    "    else:\n",
    "        # calculate the ratio of the width and construct the dimensions\n",
    "        r = width / float(w)\n",
    "        dim = (width, int(h * r))\n",
    "\n",
    "    resized = cv2.resize(image, dim, interpolation=inter)\n",
    "    return resized\n",
    "\n",
    "def extent(image, size):\n",
    "    (eW, eH) = size\n",
    "    if image.shape[1] > image.shape[0]:\n",
    "        image = resize(image, width = eW)\n",
    "    else:\n",
    "        image = resize(image, height = eH)\n",
    "        \n",
    "    extent = np.zeros((eH, eW), dtype = \"uint8\") # black canvas\n",
    "    offsetX = (eW - image.shape[1]) // 2\n",
    "    offsetY = (eH - image.shape[0]) // 2\n",
    "    extent[offsetY:offsetY + image.shape[0], offsetX:offsetX + image.shape[1]] = image\n",
    "    CM = mahotas.center_of_mass(extent)\n",
    "    (cY, cX) = np.round(CM).astype(\"int32\")\n",
    "    (dX, dY) = ((size[0] // 2) - cX, (size[1] // 2) - cY)\n",
    "    M = np.float32([[1, 0, dX], [0, 1, dY]])\n",
    "    extent = cv2.warpAffine(extent, M, size)\n",
    "    return extent"
   ]
  },
  {
   "cell_type": "markdown",
   "metadata": {},
   "source": [
    "The `extent` function, takes two arguments. The first is an image and the second is the output size of the image (i.e. the output width and height). We first checks if the width is greater than the height of the image. If this is the case, the image is resized based on its width. Otherwise, the height is greater than the width, so the image must be resized based on its height. This is an important checks to make because it makes sure that the original aspect ratio of the image is maintained.\n",
    "\n",
    "We then create a black canvas of the same dimensions that were passed into the function. The offsetX and offsetY are computed. These offsets indicate the starting (x, y) coordinates (in y, x order) of where the image will be placed on the canvas. \n",
    "\n",
    "The next step is to translate the digit so it is placed at the center of the image. We compute the weighted mean of the white pixels in the image using the `center_of_mass` function of the *mahotas package*. This function returns the weighted (x, y) coordinates of the center of the image. We then converts these (x, y) coordinates to integers rather than floats. Finally, we translates the digit so that it is placed at the center of the image.\n",
    "\n",
    "**Note:** we will highly recommend you to look at the intermediate output. Also, google and read more about *mahotas* library and `cv2.warpAffine` function.\n",
    "\n",
    "Lets check if this function is of any help"
   ]
  },
  {
   "cell_type": "code",
   "execution_count": 15,
   "metadata": {},
   "outputs": [
    {
     "data": {
      "image/png": "[encoded data removed]",
      "text/plain": [
       "<Figure size 432x288 with 1 Axes>"
      ]
     },
     "metadata": {
      "filenames": {
       "image/png": "/mnt/d/aiadventures/Moodle_Courses/computer_vision_books/_build/jupyter_execute/course_material/07_digit_recognition_18_0.png"
      },
      "needs_background": "light"
     },
     "output_type": "display_data"
    }
   ],
   "source": [
    "temp = digits.copy()\n",
    "\n",
    "(x, y, w, h) = cv2.boundingRect(cnts[2]) # try changing 2 -> 3 or 4\n",
    "x, y, w, h = x-20, y-20, w+40, h+40      # extra padding\n",
    "roi = temp[y:y + h, x:x + w]\n",
    "roi = cv2.cvtColor(roi, cv2.COLOR_BGR2GRAY)\n",
    "roi = cv2.GaussianBlur(roi, (3, 3), 0)\n",
    "roi = cv2.adaptiveThreshold(roi, 255, cv2.ADAPTIVE_THRESH_MEAN_C, cv2.THRESH_BINARY_INV, 5, 4)\n",
    "roi = extent(roi, (28, 28))\n",
    "plot_img(roi)"
   ]
  },
  {
   "cell_type": "markdown",
   "metadata": {},
   "source": [
    "I would recommend you to change the contour (i.e. `cnts[id]` in the above cell) and take a look at the output for each of our digits. See if you can classify each one of them manually."
   ]
  },
  {
   "cell_type": "code",
   "execution_count": 17,
   "metadata": {},
   "outputs": [
    {
     "data": {
      "image/png": "[encoded data removed]",
      "text/plain": [
       "<Figure size 432x288 with 1 Axes>"
      ]
     },
     "metadata": {
      "filenames": {
       "image/png": "/mnt/d/aiadventures/Moodle_Courses/computer_vision_books/_build/jupyter_execute/course_material/07_digit_recognition_20_0.png"
      },
      "needs_background": "light"
     },
     "output_type": "display_data"
    }
   ],
   "source": [
    "temp = digits.copy()\n",
    "\n",
    "for c in cnts:\n",
    "    (x, y, w, h) = cv2.boundingRect(c)\n",
    "    roi = temp[y:y + h, x:x + w]\n",
    "    x, y, w, h = x-20, y-20, w+40, h+40  # extra padding\n",
    "    roi = cv2.cvtColor(roi, cv2.COLOR_BGR2GRAY)\n",
    "    roi = cv2.GaussianBlur(roi, (3, 3), 0)\n",
    "    roi = cv2.adaptiveThreshold(roi, 255, cv2.ADAPTIVE_THRESH_MEAN_C, cv2.THRESH_BINARY_INV, 5, 4)\n",
    "    roi = extent(roi, (28, 28))\n",
    "    roi = roi.reshape(-1)\n",
    "    pred = model.predict([roi])[0]\n",
    "    temp = cv2.rectangle(temp, (x,y), (x+w,y+h), (0,255,0), 2)\n",
    "    cv2.putText(temp, str(pred), (x - 40, y + 15), cv2.FONT_HERSHEY_SIMPLEX, 1.5, (0, 0, 255), 2)\n",
    "\n",
    "plot_img(temp)"
   ]
  },
  {
   "cell_type": "markdown",
   "metadata": {},
   "source": [
    "Amazing, we got 4 predictions right! In the last notebook, we got only one prediction right, just by adding some extra padding and using `extend` function we got a massive boost in our performance.\n",
    "\n",
    "The reason we are discussing all these things is to make you realize the challenges that you face while developing a computer vision application and how to handle them. Doubt everything, look at the intermediate outputs, and write a lot of code. \n",
    "\n",
    "We are leaving this as an exercise for you to improve the model further. Try to make the output images look as close to training images as possible. Use all the different techniques that we learned in the course. \n",
    "\n",
    "Lets discuss the second reason for poor performance."
   ]
  },
  {
   "cell_type": "markdown",
   "metadata": {},
   "source": [
    "## Flatten Images\n",
    "\n",
    "When we flatten our image, we lose all its spacial information. The SVM model don't know that the 784 values are derived from an image, for our model its just a bunch of numbers. If you shift the image by a single pixel then you will get a completely different feature vector on flattening it. There's no way for your model to know that both the features vectors are derived from the same image. \n",
    "\n",
    "We need to use an algorithm which is *translation-invariant* i.e. after learning a certain pattern, it should be able to recognize the same pattern anywhere in the image. Such algorithm need fewer training samples to learn representations that have generalization power. \n",
    "\n",
    "CNNs (in deep learning) are the best example of models that are translation-invariant. But discussing deep learning is out of the scope of the course. So, we will learn and use some classic computer vision techniques for extracting features from the image."
   ]
  },
  {
   "cell_type": "markdown",
   "metadata": {},
   "source": [
    "## HOG descriptor\n",
    "Histogram of Oriented Gradients, HOG for short, operates on the gradient magnitude of the image. Computing the gradient magnitude of an image is similar to edge detection. HOG has been used successfully in many areas of computer vision and machine learning, but especially noteworthy is the detection of people in images. You can read more about HOG descriptor [here](https://www.analyticsvidhya.com/blog/2019/09/feature-engineering-images-introduction-hog-feature-descriptor/).\n",
    "\n",
    "We are going to use the HOG image descriptor to learn the representation of image digits and Support Vector Machine (SVM) to classify them."
   ]
  },
  {
   "cell_type": "markdown",
   "metadata": {},
   "source": [
    "First, we need to extract features from all our training images and train the machine learning model again."
   ]
  },
  {
   "cell_type": "code",
   "execution_count": 1,
   "metadata": {},
   "outputs": [],
   "source": [
    "from pathlib import Path"
   ]
  },
  {
   "cell_type": "code",
   "execution_count": 2,
   "metadata": {},
   "outputs": [],
   "source": [
    "def load_data(base_path):\n",
    "    images = []\n",
    "    labels = []\n",
    "    \n",
    "    for folder in base_path.iterdir():\n",
    "        label = int(folder.stem)\n",
    "        for img_path in folder.glob('*.jpg'):\n",
    "            img = read_img(str(img_path))\n",
    "            img = cv2.cvtColor(img, cv2.COLOR_BGR2GRAY)\n",
    "            images.append(img)\n",
    "            labels.append(label)\n",
    "        \n",
    "    images = np.array(images)\n",
    "    labels = np.array(labels)\n",
    "    return images, labels"
   ]
  },
  {
   "cell_type": "markdown",
   "metadata": {},
   "source": [
    "We will load all our images in to memory"
   ]
  },
  {
   "cell_type": "code",
   "execution_count": 7,
   "metadata": {},
   "outputs": [
    {
     "name": "stdout",
     "output_type": "stream",
     "text": [
      "Wall time: 2min 42s\n"
     ]
    },
    {
     "data": {
      "text/plain": [
       "((42000, 28, 28), (42000,))"
      ]
     },
     "execution_count": 7,
     "metadata": {},
     "output_type": "execute_result"
    }
   ],
   "source": [
    "%%time\n",
    "base_path = Path('data/trainingSet')\n",
    "images, labels = load_data(base_path)\n",
    "images.shape, labels.shape"
   ]
  },
  {
   "cell_type": "markdown",
   "metadata": {},
   "source": [
    "42000 images and 42000 labels, everything worked fine.\n",
    "\n",
    "Next, we need to extract HOG features from our images. Luckily for us, the scikit-image library has already implemented the HOG descriptor, so he can rely on it when computing his feature representations. We will start by importing the *feature* sub-package of *scikit-image*. The *feature* package contains many methods to extract features from images."
   ]
  },
  {
   "cell_type": "code",
   "execution_count": 8,
   "metadata": {},
   "outputs": [],
   "source": [
    "from skimage import feature\n",
    "    \n",
    "def describe(image):\n",
    "    hist = feature.hog(image,\n",
    "                    orientations = 9,\n",
    "                    pixels_per_cell = (8, 8),\n",
    "                    cells_per_block = (3, 3),\n",
    "                    transform_sqrt = False)\n",
    "    return hist"
   ]
  },
  {
   "cell_type": "markdown",
   "metadata": {},
   "source": [
    "The first argument is an image. The second, *orientations*, defines how many gradient orientations will be in each histogram (i.e.,\n",
    "the number of bins). The *pixelsPerCell* parameter defines the number of pixels that will fall into each cell. When computing the HOG descriptor over an image, the image will be partitioned into multiple cells, each of size *pixelsPerCell* × *pixelsPerCell*. A histogram of gradient magnitudes will then be computed for each cell. HOG will then normalize each of the histograms according to the number of cells that fall into each block using the *cellsPerBlock* argument.\n",
    "\n",
    "Optionally, HOG can apply power law compression (taking the log/square-root of the input image), which can lead to better accuracy of the descriptor.\n",
    "\n",
    "Time to extract features from all the images"
   ]
  },
  {
   "cell_type": "code",
   "execution_count": 9,
   "metadata": {},
   "outputs": [],
   "source": [
    "data = [describe(img) for img in images]"
   ]
  },
  {
   "cell_type": "markdown",
   "metadata": {},
   "source": [
    "**Note:** Here, we are not splitting our data into train and test set for simplicity.\n",
    "\n",
    "lets train our SVM model on the feautures extracted from the images . . ."
   ]
  },
  {
   "cell_type": "code",
   "execution_count": 10,
   "metadata": {},
   "outputs": [
    {
     "data": {
      "text/plain": [
       "0.9840238095238095"
      ]
     },
     "execution_count": 10,
     "metadata": {},
     "output_type": "execute_result"
    }
   ],
   "source": [
    "from sklearn import svm\n",
    "svm = svm.SVC(random_state = 0)\n",
    "svm.fit(data, labels)\n",
    "svm.score(data, labels)"
   ]
  },
  {
   "cell_type": "code",
   "execution_count": 11,
   "metadata": {},
   "outputs": [
    {
     "data": {
      "text/plain": [
       "['digit_svm.pkl']"
      ]
     },
     "execution_count": 11,
     "metadata": {},
     "output_type": "execute_result"
    }
   ],
   "source": [
    "joblib.dump(svm, 'digit_svm.pkl')"
   ]
  },
  {
   "cell_type": "markdown",
   "metadata": {},
   "source": [
    "Lets copy the code from above and change the line that flattens the image to call `describe` function."
   ]
  },
  {
   "cell_type": "code",
   "execution_count": 23,
   "metadata": {},
   "outputs": [
    {
     "data": {
      "image/png": "[encoded data removed]",
      "text/plain": [
       "<Figure size 432x288 with 1 Axes>"
      ]
     },
     "metadata": {
      "filenames": {
       "image/png": "/mnt/d/aiadventures/Moodle_Courses/computer_vision_books/_build/jupyter_execute/course_material/07_digit_recognition_37_0.png"
      },
      "needs_background": "light"
     },
     "output_type": "display_data"
    }
   ],
   "source": [
    "temp = digits.copy()\n",
    "\n",
    "for c in cnts:\n",
    "    (x, y, w, h) = cv2.boundingRect(c)\n",
    "    roi = temp[y:y + h, x:x + w]\n",
    "    x, y, w, h = x-20, y-20, w+40, h+40  # extra padding\n",
    "    roi = cv2.cvtColor(roi, cv2.COLOR_BGR2GRAY)\n",
    "    roi = cv2.GaussianBlur(roi, (3, 3), 0)\n",
    "    roi = cv2.adaptiveThreshold(roi, 255, cv2.ADAPTIVE_THRESH_MEAN_C, cv2.THRESH_BINARY_INV, 5, 4)\n",
    "    roi = center_extent(roi, (28, 28))\n",
    "    feat = describe(roi)   # extracting features\n",
    "    pred = svm.predict([feat])[0]\n",
    "    temp = cv2.rectangle(temp, (x,y), (x+w,y+h), (0,255,0), 2)\n",
    "    cv2.putText(temp, str(pred), (x - 40, y + 15), cv2.FONT_HERSHEY_SIMPLEX, 1.5, (0, 0, 255), 2)\n",
    "\n",
    "plot_img(temp)"
   ]
  },
  {
   "cell_type": "markdown",
   "metadata": {},
   "source": [
    "Hurry, we got all the digits right! HOG is amazingly powerful and fast. we can easily convert it into a real-time application. We will leave that as an exercise for you to try. "
   ]
  },
  {
   "cell_type": "markdown",
   "metadata": {},
   "source": [
    "Just like HOG, there are many other techniques for extracting features from images. Some of the very famous onces are SIFT, SURF, FAST and ORB. We wil be learning about them in the next notebook."
   ]
  },
  {
   "cell_type": "markdown",
   "metadata": {},
   "source": [
    "## Questionaire\n",
    "\n",
    "- What are the most important things to take care of when buildig a computer vision application?\n",
    "- What are the mistakes that people often commit?\n",
    "- How can we extract more meaningful features (or information) from images? Name a few techniques."
   ]
  }
 ],
 "metadata": {
  "kernelspec": {
   "display_name": "Python 3",
   "language": "python",
   "name": "python3"
  },
  "language_info": {
   "codemirror_mode": {
    "name": "ipython",
    "version": 3
   },
   "file_extension": ".py",
   "mimetype": "text/x-python",
   "name": "python",
   "nbconvert_exporter": "python",
   "pygments_lexer": "ipython3",
   "version": "3.7.4"
  }
 },
 "nbformat": 4,
 "nbformat_minor": 4
}