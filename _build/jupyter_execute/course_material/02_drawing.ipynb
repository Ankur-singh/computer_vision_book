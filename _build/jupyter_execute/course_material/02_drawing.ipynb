{
 "cells": [
  {
   "cell_type": "markdown",
   "metadata": {},
   "source": [
    "# More on pixels\n",
    "\n",
    "In the first part of the notebook, we will learn about accessing and manipulating pixel values. In the second part, we will learn to draw different shapes on an image, using opencv."
   ]
  },
  {
   "cell_type": "code",
   "execution_count": 1,
   "metadata": {},
   "outputs": [],
   "source": [
    "import cv2\n",
    "import numpy as np"
   ]
  },
  {
   "cell_type": "markdown",
   "metadata": {},
   "source": [
    "## Accessing pixel values"
   ]
  },
  {
   "cell_type": "code",
   "execution_count": 2,
   "metadata": {},
   "outputs": [],
   "source": [
    "img = cv2.imread('images/yoda.jpeg')"
   ]
  },
  {
   "cell_type": "markdown",
   "metadata": {},
   "source": [
    "Whenever we read an image using `cv2.imread()`, it returns a numpy array. Access values from numpy array is super easy. You can access a single pixel by simply passing its cordinates."
   ]
  },
  {
   "cell_type": "code",
   "execution_count": 3,
   "metadata": {},
   "outputs": [
    {
     "data": {
      "text/plain": [
       "array([205, 183, 188], dtype=uint8)"
      ]
     },
     "execution_count": 3,
     "metadata": {},
     "output_type": "execute_result"
    }
   ],
   "source": [
    "pixel_00 = img[0, 0]\n",
    "pixel_00"
   ]
  },
  {
   "cell_type": "markdown",
   "metadata": {},
   "source": [
    "To access a region of an image, we can use slicing. For example, this is how we can access the upper-left region of the image"
   ]
  },
  {
   "cell_type": "code",
   "execution_count": 4,
   "metadata": {},
   "outputs": [
    {
     "data": {
      "text/plain": [
       "array([[[205, 183, 188],\n",
       "        [205, 183, 188],\n",
       "        [205, 183, 188],\n",
       "        [207, 185, 190],\n",
       "        [210, 188, 193]],\n",
       "\n",
       "       [[205, 183, 188],\n",
       "        [205, 183, 188],\n",
       "        [205, 183, 188],\n",
       "        [208, 186, 191],\n",
       "        [211, 189, 194]],\n",
       "\n",
       "       [[205, 183, 188],\n",
       "        [205, 183, 188],\n",
       "        [206, 184, 189],\n",
       "        [208, 186, 191],\n",
       "        [211, 189, 194]],\n",
       "\n",
       "       [[204, 182, 187],\n",
       "        [204, 182, 187],\n",
       "        [205, 183, 188],\n",
       "        [208, 186, 191],\n",
       "        [211, 189, 194]],\n",
       "\n",
       "       [[203, 181, 186],\n",
       "        [203, 181, 186],\n",
       "        [204, 182, 187],\n",
       "        [207, 185, 190],\n",
       "        [210, 188, 193]]], dtype=uint8)"
      ]
     },
     "execution_count": 4,
     "metadata": {},
     "output_type": "execute_result"
    }
   ],
   "source": [
    "upper_left_5 = img[:5, :5]\n",
    "upper_left_5"
   ]
  },
  {
   "cell_type": "markdown",
   "metadata": {},
   "source": [
    "to select the lower-right region you can do `img[-5:0, -5:0]`. If you are new to numpy, we would recommend you to checkout [indexing documentation](https://numpy.org/doc/stable/reference/arrays.indexing.html).\n",
    "\n",
    "5 x 5 is a very small region to display, so lets select a bigger region."
   ]
  },
  {
   "cell_type": "code",
   "execution_count": 5,
   "metadata": {},
   "outputs": [
    {
     "data": {
      "text/plain": [
       "(150, 150, 3)"
      ]
     },
     "execution_count": 5,
     "metadata": {},
     "output_type": "execute_result"
    }
   ],
   "source": [
    "upper_left_150 = img[:150, :150]\n",
    "upper_left_150.shape"
   ]
  },
  {
   "cell_type": "markdown",
   "metadata": {},
   "source": [
    "You can think of this as a 150 x 150 image with 3 channels. Lets display it now."
   ]
  },
  {
   "cell_type": "code",
   "execution_count": 6,
   "metadata": {},
   "outputs": [],
   "source": [
    "cv2.imshow('Upper Left corner', upper_left_150)\n",
    "cv2.waitKey(0)\n",
    "cv2.destroyAllWindows()"
   ]
  },
  {
   "cell_type": "markdown",
   "metadata": {},
   "source": [
    "This process of selecting a small part of an images is also know as **cropping**. It is one of the easiest transformation that you can apply to your images."
   ]
  },
  {
   "cell_type": "markdown",
   "metadata": {},
   "source": [
    "## Manipulating images\n",
    "\n",
    "Again, since its just a numpy array, we can simply assign a new value to the pixels. Lets select the upper-left corner and make it blue."
   ]
  },
  {
   "cell_type": "code",
   "execution_count": 7,
   "metadata": {},
   "outputs": [],
   "source": [
    "img[:150, :150] = (255, 0, 0)"
   ]
  },
  {
   "cell_type": "markdown",
   "metadata": {},
   "source": [
    "**Note:** OpenCV by default stores pixels in BGR format, not RGB format. So, (255, 0, 0) is blue not red.\n",
    "\n",
    "when we assign a tuple (of 3 values, representing a color) to the selected region, it is automatically broadcasted to all the pixel in the selected region. This concept is called broadcasting and if you are listening it for the first time, then we recommend you to check [the docs](https://numpy.org/doc/stable/user/basics.broadcasting.html).\n",
    "\n",
    "Lets have a look at our image after manipulation."
   ]
  },
  {
   "cell_type": "code",
   "execution_count": 8,
   "metadata": {},
   "outputs": [],
   "source": [
    "cv2.imshow('Colored corner', img)\n",
    "cv2.waitKey(0)\n",
    "cv2.destroyAllWindows()"
   ]
  },
  {
   "cell_type": "markdown",
   "metadata": {},
   "source": [
    "We have called these 3 lines multiple times. Lets put them inside a function for future use. "
   ]
  },
  {
   "cell_type": "code",
   "execution_count": 10,
   "metadata": {},
   "outputs": [],
   "source": [
    "def imshow(title, img):\n",
    "    cv2.imshow(title, img)\n",
    "    cv2.waitKey(0)\n",
    "    cv2.destroyAllWindows()"
   ]
  },
  {
   "cell_type": "markdown",
   "metadata": {},
   "source": [
    "**Exercise:**\n",
    "\n",
    "- Try selecting all the 4 corner and color them with different colours.\n",
    "- Also, select a 100 x 100 region, in the center of the image and make it white."
   ]
  },
  {
   "cell_type": "markdown",
   "metadata": {},
   "source": [
    "## Drawing\n",
    "\n",
    "Using NumPy array slices, we were able to draw a square on our image. But what if we wanted to draw a single line? Or a circle? NumPy does not provide that type of functionality – it’s only a numerical processing library after all!\n",
    "\n",
    "Luckily, OpenCV provides convenient, easy-to-use methods to draw shapes on an image. We’ll review the three most basic methods to draw shapes: `cv2.line`, `cv2.rectangle`, and `cv2.circle`.\n",
    "\n",
    "Lets start by defining our canvas. Since images is nothing but a numpy arrays, we can manually define a numpy array with all zeros, and use it as our canvas."
   ]
  },
  {
   "cell_type": "code",
   "execution_count": 11,
   "metadata": {},
   "outputs": [],
   "source": [
    "canvas = np.zeros((500, 500, 3))"
   ]
  },
  {
   "cell_type": "markdown",
   "metadata": {},
   "source": [
    "to see how our canvas looks we will use the `show()` function we defined above."
   ]
  },
  {
   "cell_type": "code",
   "execution_count": 12,
   "metadata": {},
   "outputs": [],
   "source": [
    "imshow('canvas',canvas)"
   ]
  },
  {
   "cell_type": "markdown",
   "metadata": {},
   "source": [
    "why is our canvas **black**? Think for a second. What are the pixel values? \n",
    "\n",
    "Lets draw some shapes . . ."
   ]
  },
  {
   "cell_type": "markdown",
   "metadata": {},
   "source": [
    "### Lines\n",
    "\n",
    "In order to draw a line, we make use of the `cv2.line` method. The first argument to this method is the image we are going to draw on. In this case, it’s our canvas. The second argument is the starting point of the line. We will start our line, at point (0, 10). We also need to supply an ending point for the line (the third argument). We will define our ending point to be (500, 10). The last argument is the color of our line, we will use blue color. \n",
    "\n",
    "Lets see `cv2.line` in action"
   ]
  },
  {
   "cell_type": "code",
   "execution_count": 13,
   "metadata": {},
   "outputs": [],
   "source": [
    "blue = (255, 0, 0)\n",
    "canvas = cv2.line(canvas, (0, 10), (500, 10), blue)"
   ]
  },
  {
   "cell_type": "markdown",
   "metadata": {},
   "source": [
    "Here, we drew a blue line from point (0, 10) to point (500, 10). Lets draw another line with thickness of 2px"
   ]
  },
  {
   "cell_type": "code",
   "execution_count": 14,
   "metadata": {},
   "outputs": [],
   "source": [
    "green = (0, 255, 0)\n",
    "canvas = cv2.line(canvas, (0, 30), (500, 30), green, 2)"
   ]
  },
  {
   "cell_type": "markdown",
   "metadata": {},
   "source": [
    "time to look at our image . . . "
   ]
  },
  {
   "cell_type": "code",
   "execution_count": 15,
   "metadata": {},
   "outputs": [],
   "source": [
    "imshow('canvas', canvas)"
   ]
  },
  {
   "cell_type": "markdown",
   "metadata": {},
   "source": [
    "As you can see, drawing a line is pretty easy. Specify the canvas, start & end point, color, and thickness (optional). \n",
    "\n",
    "**Note:** Whenever using `cv2.line`, `cv2.rectangle` and `cv2.circle` make sure you use the **OpenCV cordinate system**, not numpy system. Because, [5, 10] in numpy system means 5th row, 10th column. Where as in opencv system, it means 5th column (x-axis) and 10th row (y-axis)."
   ]
  },
  {
   "cell_type": "markdown",
   "metadata": {},
   "source": [
    "### Rectangle\n",
    "\n",
    "To draw a rectangle, we make use of the `cv2.rectangle` method. `cv2.rectangle` is very similar to `cv2.line`. The only difference is, instead of passing start and end points of the line, we will pass upper-left and lower-right corner of the rectangle."
   ]
  },
  {
   "cell_type": "code",
   "execution_count": 16,
   "metadata": {},
   "outputs": [],
   "source": [
    "red = (0, 0, 255)\n",
    "canvas = cv2.rectangle(canvas, (0, 50), (300, 100), red, 2)"
   ]
  },
  {
   "cell_type": "code",
   "execution_count": 17,
   "metadata": {},
   "outputs": [],
   "source": [
    "imshow('canvas', canvas)"
   ]
  },
  {
   "cell_type": "markdown",
   "metadata": {},
   "source": [
    "we have only drawn the outline of a rectangle. To draw a rectangle that is “filled in”, like when using NumPy array slices, we can pass negative thickness."
   ]
  },
  {
   "cell_type": "code",
   "execution_count": 18,
   "metadata": {},
   "outputs": [],
   "source": [
    "red = (0, 0, 255)\n",
    "canvas = cv2.rectangle(canvas, (10, 70), (310, 120), red, -1)"
   ]
  },
  {
   "cell_type": "code",
   "execution_count": 19,
   "metadata": {},
   "outputs": [],
   "source": [
    "imshow('canvas', canvas)"
   ]
  },
  {
   "cell_type": "markdown",
   "metadata": {},
   "source": [
    "### Circles\n",
    "\n",
    "Drawing circles is just as simple as drawing rectangles, but the function arguments are a little different. To draw a circle, we need two things: center and radius."
   ]
  },
  {
   "cell_type": "code",
   "execution_count": 20,
   "metadata": {},
   "outputs": [],
   "source": [
    "center = (300, 300)\n",
    "radius = 20\n",
    "canvas = cv2.circle(canvas, center, radius, blue, 2)"
   ]
  },
  {
   "cell_type": "code",
   "execution_count": 21,
   "metadata": {},
   "outputs": [],
   "source": [
    "imshow('canvas', canvas)"
   ]
  },
  {
   "cell_type": "markdown",
   "metadata": {},
   "source": [
    "To draw a fill-in circle, just change  the thickness from 2 to -1.\n",
    "\n",
    "Lets make some concentric circles."
   ]
  },
  {
   "cell_type": "code",
   "execution_count": 22,
   "metadata": {},
   "outputs": [],
   "source": [
    "canvas = np.zeros((500, 500, 3))\n",
    "(centerX, centerY) = (canvas.shape[1] // 2, canvas.shape[0] // 2)\n",
    "red = (0, 0, 255)\n",
    "for r in range(0, 175, 25):\n",
    "    canvas = cv2.circle(canvas, (centerX, centerY), r, red)"
   ]
  },
  {
   "cell_type": "code",
   "execution_count": 23,
   "metadata": {},
   "outputs": [],
   "source": [
    "imshow('canvas', canvas)"
   ]
  },
  {
   "cell_type": "markdown",
   "metadata": {},
   "source": [
    "This is great, we have learned how to draw lines, rectangles and circles in OpenCV. Lets do some fun projects based on this newly acquired skill.\n",
    "\n",
    "**Exercise:** \n",
    "- Make 640 x 640 canvas and make it look like a chess board with alternate white and black squares.\n",
    "- Create a canvas, randomly select a point (`center`), randomly select a color (`c`), and finally, randomly select a radius (`r`). Now, make a circle center at `center`, of radius `r` and fill-in color `c`. Repeat it 25 times. Now, does it look **psychedelic**? "
   ]
  },
  {
   "cell_type": "markdown",
   "metadata": {},
   "source": [
    "## Questionaire\n",
    "\n",
    "- Numpy indexing\n",
    "- Broadcasting\n",
    "- OpenCV uses which format BGR or RGB? What difference does it make?\n",
    "- Which cordinate system is used by `cv2.line`, `cv2.rectangle` and `cv2.circle`; Numpy or OpenCV?\n",
    "- How to drawing a line, rectangle and circle?\n",
    "\n",
    "Make sure you know answers to all these questions before you move ahead in the course.\n",
    "\n",
    "Its time, we should now start building some useful applications. In the next notebook, we will build a face detector. "
   ]
  }
 ],
 "metadata": {
  "kernelspec": {
   "display_name": "Python 3",
   "language": "python",
   "name": "python3"
  },
  "language_info": {
   "codemirror_mode": {
    "name": "ipython",
    "version": 3
   },
   "file_extension": ".py",
   "mimetype": "text/x-python",
   "name": "python",
   "nbconvert_exporter": "python",
   "pygments_lexer": "ipython3",
   "version": "3.7.4"
  }
 },
 "nbformat": 4,
 "nbformat_minor": 4
}