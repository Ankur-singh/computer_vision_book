{
 "cells": [
  {
   "cell_type": "code",
   "execution_count": 2,
   "metadata": {},
   "outputs": [
    {
     "name": "stdout",
     "output_type": "stream",
     "text": [
      "\n",
      "Color Picker in OpenCV.\n",
      "--------------------\n",
      "Usage:\n",
      "  color_picker.py\n",
      "Keys:\n",
      "  q - exit\n",
      "\n",
      "The RGB value of selected color is 66, 131, 79\n"
     ]
    }
   ],
   "source": [
    "'''\n",
    "Color Picker in OpenCV.\n",
    "--------------------\n",
    "Keys:\n",
    "  q - exit\n",
    "'''\n",
    "\n",
    "import cv2\n",
    "import numpy as np\n",
    "\n",
    "def nothing(x): pass\n",
    "\n",
    "def main():\n",
    "    # Create a black image, a window\n",
    "    img = np.zeros((300, 512, 3), np.uint8)\n",
    "    cv2.namedWindow('image')\n",
    "\n",
    "    # create trackbars for color change\n",
    "    cv2.createTrackbar('R', 'image', 0, 255, nothing)\n",
    "    cv2.createTrackbar('G', 'image', 0, 255, nothing)\n",
    "    cv2.createTrackbar('B', 'image', 0, 255, nothing)\n",
    "\n",
    "    while(1):\n",
    "        cv2.imshow('image', img)\n",
    "        k = cv2.waitKey(1)\n",
    "        if k == ord('q'):\n",
    "            break\n",
    "\n",
    "        # get current positions of trackbars\n",
    "        r = cv2.getTrackbarPos('R', 'image')\n",
    "        g = cv2.getTrackbarPos('G', 'image')\n",
    "        b = cv2.getTrackbarPos('B', 'image')\n",
    "        img[:] = [b, g, r]\n",
    "    print('The RGB value of selected color is {}, {}, {}'.format(r,g,b))\n",
    "if __name__ == '__main__':\n",
    "    print(__doc__)\n",
    "    main()\n",
    "    cv2.destroyAllWindows()"
   ]
  }
 ],
 "metadata": {
  "kernelspec": {
   "display_name": "Python 3",
   "language": "python",
   "name": "python3"
  },
  "language_info": {
   "codemirror_mode": {
    "name": "ipython",
    "version": 3
   },
   "file_extension": ".py",
   "mimetype": "text/x-python",
   "name": "python",
   "nbconvert_exporter": "python",
   "pygments_lexer": "ipython3",
   "version": "3.7.4"
  }
 },
 "nbformat": 4,
 "nbformat_minor": 4
}