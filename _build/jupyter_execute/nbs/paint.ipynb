{
 "cells": [
  {
   "cell_type": "code",
   "execution_count": 1,
   "metadata": {},
   "outputs": [
    {
     "name": "stdout",
     "output_type": "stream",
     "text": [
      "\n",
      "Painting with OpenCV.\n",
      "--------------------\n",
      "click and drag your mouse to paint\n",
      "Keys:\n",
      "  r - reset the painting canvas\n",
      "  q - exit\n",
      "\n"
     ]
    }
   ],
   "source": [
    "'''\n",
    "Painting with OpenCV.\n",
    "--------------------\n",
    "click and drag your mouse to paint\n",
    "Keys:\n",
    "  r - reset the painting canvas\n",
    "  q - exit\n",
    "'''\n",
    "\n",
    "import cv2\n",
    "import numpy as np\n",
    "\n",
    "drawing = False # true if mouse is pressed\n",
    "img = None\n",
    "\n",
    "# mouse callback function\n",
    "def draw(event,x,y,flags,param):\n",
    "    global drawing, img\n",
    "\n",
    "    if event == cv2.EVENT_LBUTTONDOWN:\n",
    "        drawing = True\n",
    "\n",
    "    elif event == cv2.EVENT_MOUSEMOVE:\n",
    "        if drawing == True:\n",
    "            cv2.circle(img, (x, y), 3, (0, 255, 0), -1)\n",
    "\n",
    "    elif event == cv2.EVENT_LBUTTONUP:\n",
    "        drawing = False\n",
    "        \n",
    "def main():\n",
    "    global img\n",
    "    img = np.zeros((512,512,3), np.uint8)\n",
    "    cv2.namedWindow('image')\n",
    "    cv2.setMouseCallback('image', draw)\n",
    "\n",
    "    while True:\n",
    "        cv2.imshow('image',img)\n",
    "        \n",
    "        k = cv2.waitKey(1)\n",
    "        if k == ord('r'):\n",
    "            img = np.zeros((512, 512, 3), np.uint8)\n",
    "        if k == ord('q'):\n",
    "            break\n",
    "\n",
    "if __name__ == '__main__':\n",
    "    print(__doc__)\n",
    "    main()\n",
    "    cv2.destroyAllWindows()"
   ]
  }
 ],
 "metadata": {
  "kernelspec": {
   "display_name": "Python 3",
   "language": "python",
   "name": "python3"
  },
  "language_info": {
   "codemirror_mode": {
    "name": "ipython",
    "version": 3
   },
   "file_extension": ".py",
   "mimetype": "text/x-python",
   "name": "python",
   "nbconvert_exporter": "python",
   "pygments_lexer": "ipython3",
   "version": "3.7.4"
  }
 },
 "nbformat": 4,
 "nbformat_minor": 4
}