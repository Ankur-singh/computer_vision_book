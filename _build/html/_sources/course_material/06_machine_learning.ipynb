{
 "cells": [
  {
   "cell_type": "markdown",
   "metadata": {
    "colab_type": "text",
    "id": "W5b7SoMoR_gm"
   },
   "source": [
    "# Machine Learning"
   ]
  },
  {
   "cell_type": "markdown",
   "metadata": {
    "colab_type": "text",
    "id": "-4aV7rAKR_gn"
   },
   "source": [
    "In this Notebook we will see, previously, when there was no deep learning(or when deep learning was not popular), how people used machine learning algorithms to classify objects. We will solve simple classification problem using **KNN**.\n",
    "\n",
    "**Note:** It is expected that you atleast know some fundamentals of machine learning algorithms."
   ]
  },
  {
   "cell_type": "markdown",
   "metadata": {
    "colab_type": "text",
    "id": "k5iHmsozUfCA"
   },
   "source": [
    " The computer cannot see the images as humans do. It only looks at numbers, and that’s what the images are. Each pixel is a feature. Just read the grayscale image using OpenCV or Python-PIL, convert to a numpy array and ravel (flatten) the matrix. If you are dealing with RGB images, then you have three matrices instead of one. But the idea remains the same. "
   ]
  },
  {
   "cell_type": "markdown",
   "metadata": {},
   "source": [
    "## MNIST dataset\n",
    "\n",
    "We'll use one of the most famous datasets in computer vision, [MNIST](https://en.wikipedia.org/wiki/MNIST_database), for our experiments. MNIST contains hand-written digits, collected by the National Institute of Standards and Technology, and collated into a machine learning dataset by Yann Lecun and his colleagues. Lecun used MNIST in 1998 to demonstrate [Lenet 5](https://yann.lecun.com/exdb/lenet/), the first computer system to demonstrate practically useful recognition of hand-written digit sequences. This was one of the most important breakthroughs in the history of AI.\n",
    "\n",
    "You can download the dataset from [here](https://www.kaggle.com/scolianni/mnistasjpg). Once downloaded, extract it inside *data* directory. \n",
    "\n",
    "The original dataset is in *csv* format, but we will work with images, because we are learning computer vision! Also, we want you to learn the complete end-to-end process. \n",
    "\n",
    "The dataset contains gray-scale images of hand-drawn digits, from zero through nine. Each image is 28 pixels in height and 28 pixels in width, for a total of 784 pixels in total. Each pixel has a single pixel-value associated with it, indicating the lightness or darkness of that pixel, with higher numbers meaning darker. This pixel-value is an integer between 0 and 255, inclusive. We will try to build a machine learning model to classify these digits for us.\n",
    "\n",
    "Lets start by looking at an image . . "
   ]
  },
  {
   "cell_type": "code",
   "execution_count": 1,
   "metadata": {},
   "outputs": [],
   "source": [
    "import cv2\n",
    "import joblib\n",
    "import numpy as np\n",
    "from pathlib import Path\n",
    "import matplotlib.pyplot as plt"
   ]
  },
  {
   "cell_type": "markdown",
   "metadata": {},
   "source": [
    "**Note:** *Pathlib* is an amazing built-in library in python. It makes working with paths super easy. High recommend!"
   ]
  },
  {
   "cell_type": "code",
   "execution_count": 2,
   "metadata": {},
   "outputs": [
    {
     "name": "stdout",
     "output_type": "stream",
     "text": [
      "(28, 28, 3)\n"
     ]
    },
    {
     "data": {
      "image/png": "[encoded data removed]",
      "text/plain": [
       "<Figure size 432x288 with 1 Axes>"
      ]
     },
     "metadata": {
      "needs_background": "light"
     },
     "output_type": "display_data"
    }
   ],
   "source": [
    "img_path = 'data/trainingSet/0/img_1.jpg'\n",
    "img = cv2.imread(img_path)\n",
    "print(img.shape)\n",
    "\n",
    "plt.axis(False)\n",
    "plt.imshow(img);"
   ]
  },
  {
   "cell_type": "markdown",
   "metadata": {},
   "source": [
    "Nice, it looks like a zero. If you look at the image shape (i.e 28 x 28 x 3), its using 3 channels. It is not a gray-scale image even though it looks like one! You can easily represent black and white images in RGB color space by just using 2 colors (black and white). So, never go for what you see. *Always check the shape of the image*.\n",
    "\n",
    "We will have to convert the image to gray scale first"
   ]
  },
  {
   "cell_type": "code",
   "execution_count": 3,
   "metadata": {},
   "outputs": [
    {
     "name": "stdout",
     "output_type": "stream",
     "text": [
      "(28, 28)\n"
     ]
    },
    {
     "data": {
      "image/png": "[encoded data removed]",
      "text/plain": [
       "<Figure size 432x288 with 1 Axes>"
      ]
     },
     "metadata": {
      "needs_background": "light"
     },
     "output_type": "display_data"
    }
   ],
   "source": [
    "img = cv2.cvtColor(img, cv2.COLOR_BGR2GRAY)\n",
    "print(img.shape)\n",
    "\n",
    "plt.axis(False)\n",
    "plt.imshow(img);"
   ]
  },
  {
   "cell_type": "markdown",
   "metadata": {},
   "source": [
    "Great, now the shape looks correct but the colors look different, this is because matplotlib using other color scheme. You can easily fix it by using *cmap* argument. We will have to explicitly ask matplotlib to use *gray* color scheme."
   ]
  },
  {
   "cell_type": "code",
   "execution_count": 4,
   "metadata": {},
   "outputs": [
    {
     "data": {
      "image/png": "[encoded data removed]",
      "text/plain": [
       "<Figure size 432x288 with 1 Axes>"
      ]
     },
     "metadata": {
      "needs_background": "light"
     },
     "output_type": "display_data"
    }
   ],
   "source": [
    "plt.axis(False)\n",
    "plt.imshow(img, cmap='gray');"
   ]
  },
  {
   "cell_type": "markdown",
   "metadata": {},
   "source": [
    "We will be reading and displaying a lot images, it would be a good idea to make some functions for the job."
   ]
  },
  {
   "cell_type": "code",
   "execution_count": 5,
   "metadata": {},
   "outputs": [],
   "source": [
    "def read_img(path):\n",
    "    img = cv2.imread(path, cv2.COLOR_BGR2GRAY)\n",
    "    return img\n",
    "\n",
    "def plot_img(img):\n",
    "    plt.axis(False)\n",
    "    plt.imshow(img, cmap='gray');"
   ]
  },
  {
   "cell_type": "markdown",
   "metadata": {},
   "source": [
    "We will now write a function to read all the images and use their parent folder name as label. "
   ]
  },
  {
   "cell_type": "code",
   "execution_count": 6,
   "metadata": {},
   "outputs": [],
   "source": [
    "def load_data(base_path):\n",
    "    images = []\n",
    "    labels = []\n",
    "    \n",
    "    for folder in base_path.iterdir():\n",
    "        label = int(folder.stem)\n",
    "        for img_path in folder.glob('*.jpg'):\n",
    "            img = read_img(str(img_path))\n",
    "            images.append(img)\n",
    "            labels.append(label)\n",
    "        \n",
    "    images = np.array(images)\n",
    "    labels = np.array(labels)\n",
    "    return images, labels"
   ]
  },
  {
   "cell_type": "markdown",
   "metadata": {},
   "source": [
    "we iterate over all the folders and then all the images inside all the folders. We then read the image and append it to the *images* list. We also append the parent folder name (i.e. label) to the labels list. Spend some time reading the function and make sure you understand what its doing.\n",
    "\n",
    "**Hint:** remove the *for loop* and try running it on a single image."
   ]
  },
  {
   "cell_type": "code",
   "execution_count": 7,
   "metadata": {},
   "outputs": [
    {
     "name": "stdout",
     "output_type": "stream",
     "text": [
      "Wall time: 3min 8s\n"
     ]
    },
    {
     "data": {
      "text/plain": [
       "((42000, 28, 28), (42000,))"
      ]
     },
     "execution_count": 7,
     "metadata": {},
     "output_type": "execute_result"
    }
   ],
   "source": [
    "%%time\n",
    "base_path = Path('data/trainingSet')\n",
    "images, labels = load_data(base_path)\n",
    "images.shape, labels.shape"
   ]
  },
  {
   "cell_type": "markdown",
   "metadata": {},
   "source": [
    "The above cell may take some time to run. The time may vary depending upon your computer specs. The number of images and the number of labels are extactly same i.e one label for each 28 x 28 image. That means we did everything right."
   ]
  },
  {
   "cell_type": "markdown",
   "metadata": {},
   "source": [
    "**Formatting our data as per Machine Learning algorithms**\n",
    "\n",
    "All Machine learning algorithms such as k-NN, SVMs and Decision trees require all samples in the dataset to have a ﬁxed size. In the case of images, this requirement implies that our images must be preprocessed and scaled to have identical widths and heights. Here, our images are already preprocessed and scaled. So, we can use them directly. \n",
    "\n",
    "Let's move ahead and convert our 2D image into one dimension because machine learning algorithm takes 1 dimensional features, after that split our data into Training and validation set."
   ]
  },
  {
   "cell_type": "code",
   "execution_count": 8,
   "metadata": {},
   "outputs": [
    {
     "data": {
      "text/plain": [
       "(42000, 784)"
      ]
     },
     "execution_count": 8,
     "metadata": {},
     "output_type": "execute_result"
    }
   ],
   "source": [
    "images = images.reshape(42000, 28*28)\n",
    "images.shape"
   ]
  },
  {
   "cell_type": "markdown",
   "metadata": {},
   "source": [
    "We have converted all our images from 28 x 28 to a 1D vector with 784 values. In machine learning terminology,  we have 42,000 samples and each sample has 784 features. If your seeing the `reshape` function for the first time then we will recommend you to google it. Its really powerful and increases your overall understanding of the nd-arrays.\n",
    "\n",
    "time to split our data . . ."
   ]
  },
  {
   "cell_type": "code",
   "execution_count": 9,
   "metadata": {},
   "outputs": [],
   "source": [
    "from sklearn.model_selection import train_test_split\n",
    "X_train, X_test, y_train, y_test = train_test_split(images, labels, test_size=0.2, stratify=labels)"
   ]
  },
  {
   "cell_type": "markdown",
   "metadata": {},
   "source": [
    "We used the `train_test_split` function from *sklearn*. Its simply splits our features and labels.\n",
    "\n",
    "**Note:** You are not suppose to understand everything. Just follow along! Because explaining all these things will take a lot time and is also, out of the scope of this course. If you are interested in learning more, then we have a separate *course on Machine Learning* where we will discuss everything in detail.\n",
    "\n",
    "Lets train some models and validate them."
   ]
  },
  {
   "cell_type": "markdown",
   "metadata": {
    "colab_type": "text",
    "id": "3Qqzrb0KR_hM"
   },
   "source": [
    "### K-nearest neighbors Classifier"
   ]
  },
  {
   "cell_type": "code",
   "execution_count": 10,
   "metadata": {},
   "outputs": [],
   "source": [
    "from sklearn.neighbors import KNeighborsClassifier"
   ]
  },
  {
   "cell_type": "markdown",
   "metadata": {},
   "source": [
    "**Note:** KNN is a very slow alogrithm. So the below cell can take 10-15 mins to run. Make sure you are patient."
   ]
  },
  {
   "cell_type": "code",
   "execution_count": 11,
   "metadata": {},
   "outputs": [
    {
     "data": {
      "text/plain": [
       "0.965"
      ]
     },
     "execution_count": 11,
     "metadata": {},
     "output_type": "execute_result"
    }
   ],
   "source": [
    "model = KNeighborsClassifier()\n",
    "model.fit(X_train, y_train)\n",
    "model.score(X_test, y_test)"
   ]
  },
  {
   "cell_type": "markdown",
   "metadata": {},
   "source": [
    "97% accuracy, that is pretty dope. Time to make some predictions"
   ]
  },
  {
   "cell_type": "code",
   "execution_count": 13,
   "metadata": {},
   "outputs": [
    {
     "data": {
      "image/png": "[encoded data removed]",
      "text/plain": [
       "<Figure size 432x288 with 1 Axes>"
      ]
     },
     "metadata": {
      "needs_background": "light"
     },
     "output_type": "display_data"
    }
   ],
   "source": [
    "img_path = 'data/trainingSet/0/img_1.jpg'\n",
    "img = read_img(img_path)\n",
    "plot_img(img)"
   ]
  },
  {
   "cell_type": "markdown",
   "metadata": {},
   "source": [
    "lets see what our model things of this image"
   ]
  },
  {
   "cell_type": "code",
   "execution_count": 14,
   "metadata": {},
   "outputs": [
    {
     "data": {
      "text/plain": [
       "array([0])"
      ]
     },
     "execution_count": 14,
     "metadata": {},
     "output_type": "execute_result"
    }
   ],
   "source": [
    "model.predict([img.reshape(28*28)])"
   ]
  },
  {
   "cell_type": "markdown",
   "metadata": {},
   "source": [
    "Thats right! lets try another image."
   ]
  },
  {
   "cell_type": "code",
   "execution_count": 15,
   "metadata": {},
   "outputs": [
    {
     "data": {
      "image/png": "[encoded data removed]",
      "text/plain": [
       "<Figure size 432x288 with 1 Axes>"
      ]
     },
     "metadata": {
      "needs_background": "light"
     },
     "output_type": "display_data"
    }
   ],
   "source": [
    "img_path = 'data/trainingSet/9/img_11.jpg'\n",
    "img = read_img(img_path)\n",
    "model.predict([img.reshape(28*28)])\n",
    "plot_img(img)"
   ]
  },
  {
   "cell_type": "markdown",
   "metadata": {},
   "source": [
    "Great, right? In couple of minutes, the model learned to classify hand-written digits. You can create some new digits in microsoft paint and use them as input. "
   ]
  },
  {
   "cell_type": "markdown",
   "metadata": {
    "colab_type": "text",
    "id": "IYn0YS-hR_hK"
   },
   "source": [
    "One main advantage of the k-NN algorithm is that it’s extremely simple to implement and understand. Furthermore, the classiﬁer takes absolutely no time to train, since all we need to do is store our data points for the purpose of later computing distances to them and obtaining our ﬁnal classiﬁcation. \n",
    "\n",
    "However, we pay for this simplicity at classiﬁcation time. Classifying a new testing point requires a comparison to every single data point in our training data, which scales O(N), making working with larger datasets computationally prohibitive. \n",
    "\n",
    "Finally, the k-NN algorithm is more suited for low-dimensional feature spaces (which images are not). If we use a lot of images, KNN can take much longer to predict as it calculates distance to every other images."
   ]
  },
  {
   "cell_type": "markdown",
   "metadata": {
    "colab_type": "text",
    "id": "xpY9MgV-hxmL"
   },
   "source": [
    "Let's try some other algorithm"
   ]
  },
  {
   "cell_type": "markdown",
   "metadata": {
    "colab_type": "text",
    "id": "3Qqzrb0KR_hM"
   },
   "source": [
    "### SVM Classifier"
   ]
  },
  {
   "cell_type": "code",
   "execution_count": 16,
   "metadata": {},
   "outputs": [
    {
     "data": {
      "text/plain": [
       "0.9745238095238096"
      ]
     },
     "execution_count": 16,
     "metadata": {},
     "output_type": "execute_result"
    }
   ],
   "source": [
    "from sklearn import svm\n",
    "svm = svm.SVC(random_state = 0)\n",
    "svm.fit(X_train,y_train)\n",
    "svm.score(X_test, y_test)"
   ]
  },
  {
   "cell_type": "markdown",
   "metadata": {
    "colab_type": "text",
    "id": "oxBEVAQER_hh"
   },
   "source": [
    "So, SVM outperformed KNN classifier. We can use this approach for images, and this is how it was used in good old times. SVM was quite famous for image datasets. \n",
    "\n",
    "We can save these trained model in a pickle file and use them to make predictions later. Since SVM gave use better score, we wil save it. "
   ]
  },
  {
   "cell_type": "code",
   "execution_count": 17,
   "metadata": {},
   "outputs": [
    {
     "data": {
      "text/plain": [
       "['data/digit_svm.pkl']"
      ]
     },
     "execution_count": 17,
     "metadata": {},
     "output_type": "execute_result"
    }
   ],
   "source": [
    "joblib.dump(svm, 'data/digit_svm.pkl')"
   ]
  },
  {
   "cell_type": "markdown",
   "metadata": {
    "colab_type": "text",
    "id": "oxBEVAQER_hh"
   },
   "source": [
    "Machine learning algorithms can take hours to train when working with bigger images (like 512 x 512), also sometimes high dimensionality can give you lower scores. In such situations, its recommended to use techniques like `PCA` and `SVD` for dimensionality reduction. \n",
    "\n",
    "**Note:** Discussing all these algorithm and techniques is out of the scope of the course. We highly recommend you to check out our *machine learning course*, if you want to master Machine Learning algorithms and techniques."
   ]
  },
  {
   "cell_type": "markdown",
   "metadata": {},
   "source": [
    "### Making predictions\n",
    "\n",
    "We will first need an image with hand-written digits. You can either write a digit on a paper, and click a photo or draw a digit in microsoft paint. I have already created an image in paint. Lets load it"
   ]
  },
  {
   "cell_type": "code",
   "execution_count": 18,
   "metadata": {},
   "outputs": [
    {
     "data": {
      "image/png": "[encoded data removed]",
      "text/plain": [
       "<Figure size 432x288 with 1 Axes>"
      ]
     },
     "metadata": {
      "needs_background": "light"
     },
     "output_type": "display_data"
    }
   ],
   "source": [
    "digits = read_img('images/digits.png')\n",
    "plot_img(digits)"
   ]
  },
  {
   "cell_type": "markdown",
   "metadata": {},
   "source": [
    "after doing some trial-error, I was able to select the digit 2 in upper-left corner"
   ]
  },
  {
   "cell_type": "code",
   "execution_count": 19,
   "metadata": {},
   "outputs": [
    {
     "data": {
      "image/png": "[encoded data removed]",
      "text/plain": [
       "<Figure size 432x288 with 1 Axes>"
      ]
     },
     "metadata": {
      "needs_background": "light"
     },
     "output_type": "display_data"
    }
   ],
   "source": [
    "two = digits[40:220, 40:220]\n",
    "plot_img(two)"
   ]
  },
  {
   "cell_type": "markdown",
   "metadata": {},
   "source": [
    "Nice, so we have selected out 2. For our machine learning model to work, it should get input in the same format in which it was trained on. In the training images, the digits were in white and the background was black. But our image look different, the easiest way to fix it would be to use inverse thresholding."
   ]
  },
  {
   "cell_type": "code",
   "execution_count": 20,
   "metadata": {},
   "outputs": [
    {
     "data": {
      "image/png": "[encoded data removed]",
      "text/plain": [
       "<Figure size 432x288 with 1 Axes>"
      ]
     },
     "metadata": {
      "needs_background": "light"
     },
     "output_type": "display_data"
    }
   ],
   "source": [
    "two = cv2.resize(two, (28,28))\n",
    "two = cv2.cvtColor(two, cv2.COLOR_BGR2GRAY)\n",
    "blurred = cv2.GaussianBlur(two, (3, 3), 0)\n",
    "final = cv2.adaptiveThreshold(blurred, 255, cv2.ADAPTIVE_THRESH_MEAN_C, cv2.THRESH_BINARY_INV, 3, 4)\n",
    "plot_img(final)"
   ]
  },
  {
   "cell_type": "markdown",
   "metadata": {},
   "source": [
    "pretty close. Lets load our model and try to predict what number it is . . . "
   ]
  },
  {
   "cell_type": "code",
   "execution_count": 21,
   "metadata": {},
   "outputs": [
    {
     "data": {
      "text/plain": [
       "SVC(random_state=0)"
      ]
     },
     "execution_count": 21,
     "metadata": {},
     "output_type": "execute_result"
    }
   ],
   "source": [
    "model = joblib.load('data/digit_svm.pkl')\n",
    "model"
   ]
  },
  {
   "cell_type": "code",
   "execution_count": 22,
   "metadata": {},
   "outputs": [
    {
     "data": {
      "text/plain": [
       "array([2])"
      ]
     },
     "execution_count": 22,
     "metadata": {},
     "output_type": "execute_result"
    }
   ],
   "source": [
    "model.predict([final.reshape(-1)])"
   ]
  },
  {
   "cell_type": "markdown",
   "metadata": {},
   "source": [
    "Amazing, our model got it write. Lets put it all inside a function"
   ]
  },
  {
   "cell_type": "code",
   "execution_count": 23,
   "metadata": {},
   "outputs": [],
   "source": [
    "def process_img(img, gray=False):\n",
    "    img = cv2.resize(img, (28,28))\n",
    "    if not gray:\n",
    "        img = cv2.cvtColor(img, cv2.COLOR_BGR2GRAY)\n",
    "    blurred = cv2.GaussianBlur(img, (3, 3), 0)\n",
    "    final = cv2.adaptiveThreshold(blurred, 255, cv2.ADAPTIVE_THRESH_MEAN_C, cv2.THRESH_BINARY_INV, 3, 4)\n",
    "    return final.reshape(-1)"
   ]
  },
  {
   "cell_type": "code",
   "execution_count": 24,
   "metadata": {},
   "outputs": [
    {
     "data": {
      "text/plain": [
       "array([2])"
      ]
     },
     "execution_count": 24,
     "metadata": {},
     "output_type": "execute_result"
    }
   ],
   "source": [
    "two = digits[40:220, 40:220]\n",
    "out = process_img(two)\n",
    "model.predict([out])"
   ]
  },
  {
   "cell_type": "markdown",
   "metadata": {},
   "source": [
    "**Exercise:**\n",
    "- select other digits and use the SVM model to classify them. Just like we did in the above cell.\n",
    "\n",
    "So far, we can take an image of any digit and predict which digit it is. But we won't get the digit image always. We will have to find a way to extract it from an image. For extracting digits we can use `cv2.findContours` method. Lets see how"
   ]
  },
  {
   "cell_type": "code",
   "execution_count": 25,
   "metadata": {},
   "outputs": [
    {
     "data": {
      "text/plain": [
       "6"
      ]
     },
     "execution_count": 25,
     "metadata": {},
     "output_type": "execute_result"
    }
   ],
   "source": [
    "blurred = cv2.GaussianBlur(digits, (7, 7), 0)\n",
    "edged = cv2.Canny(blurred, 30, 150)\n",
    "cnts, _ = cv2.findContours(edged.copy(), cv2.RETR_EXTERNAL, cv2.CHAIN_APPROX_SIMPLE)\n",
    "len(cnts)"
   ]
  },
  {
   "cell_type": "markdown",
   "metadata": {},
   "source": [
    "we found 6 contours, exactly the number of digits we have. I have spent some time playing with the arguments like kernel size in `cv2.GaussianBlur`. I would highly recommend you to do it yourself. Lets draw these contours"
   ]
  },
  {
   "cell_type": "code",
   "execution_count": 26,
   "metadata": {},
   "outputs": [
    {
     "data": {
      "image/png": "[encoded data removed]",
      "text/plain": [
       "<Figure size 432x288 with 1 Axes>"
      ]
     },
     "metadata": {
      "needs_background": "light"
     },
     "output_type": "display_data"
    }
   ],
   "source": [
    "temp = digits.copy()\n",
    "plot_img(cv2.drawContours(temp, cnts, -1, (0, 255, 0), 2))"
   ]
  },
  {
   "cell_type": "markdown",
   "metadata": {},
   "source": [
    "this look great but is it really useful? Our model wants digit images, finding outlines won't help. So lets draw rectangle around these digits"
   ]
  },
  {
   "cell_type": "code",
   "execution_count": 27,
   "metadata": {},
   "outputs": [
    {
     "data": {
      "image/png": "[encoded data removed]",
      "text/plain": [
       "<Figure size 432x288 with 1 Axes>"
      ]
     },
     "metadata": {
      "needs_background": "light"
     },
     "output_type": "display_data"
    }
   ],
   "source": [
    "temp = digits.copy()\n",
    "for c in cnts:\n",
    "    (x, y, w, h) = cv2.boundingRect(c)\n",
    "    temp = cv2.rectangle(temp, (x,y), (x+w,y+h), (0,255,0), 2)\n",
    "\n",
    "plot_img(temp)"
   ]
  },
  {
   "cell_type": "markdown",
   "metadata": {},
   "source": [
    "Amazing, we are able to extract digits from our images and we already know how to make prediction if we have the digit. Lets put it all together."
   ]
  },
  {
   "cell_type": "code",
   "execution_count": 28,
   "metadata": {},
   "outputs": [
    {
     "data": {
      "image/png": "[encoded data removed]",
      "text/plain": [
       "<Figure size 432x288 with 1 Axes>"
      ]
     },
     "metadata": {
      "needs_background": "light"
     },
     "output_type": "display_data"
    }
   ],
   "source": [
    "temp = digits.copy()\n",
    "\n",
    "for c in cnts:\n",
    "    (x, y, w, h) = cv2.boundingRect(c)\n",
    "    roi = temp[y:y + h, x:x + w]\n",
    "    roi = process_img(roi)\n",
    "    pred = model.predict([roi])[0]\n",
    "    temp = cv2.rectangle(temp, (x,y), (x+w,y+h), (0,255,0), 2)\n",
    "    cv2.putText(temp, str(pred), (x - 40, y + 15), cv2.FONT_HERSHEY_SIMPLEX, 1.5, (0, 0, 255), 2)\n",
    "\n",
    "plot_img(temp)"
   ]
  },
  {
   "cell_type": "markdown",
   "metadata": {},
   "source": [
    "Our model made a lot of wrong prediction, almost ever digits is incorrectly predicted. But why is it so? We got 97% accuracy in our testset, but here we are hardly getting anything right. There are two main reasons for this poor performance:\n",
    "1. Input images is different than training images\n",
    "2. Current features (flatten image) are very poor at capturing information.\n",
    "\n",
    "We will be discussing each of these reasons, in details, in the next notebook."
   ]
  },
  {
   "cell_type": "markdown",
   "metadata": {},
   "source": [
    "## Questionaire\n",
    "\n",
    "- What is the expected input format for a machine learning algorithm?\n",
    "- Why do we split our data into train and test set?\n",
    "- What does reshape method do?\n",
    "- What is pickle object? How do you load it?"
   ]
  }
 ],
 "metadata": {
  "kernelspec": {
   "display_name": "Python 3",
   "language": "python",
   "name": "python3"
  },
  "language_info": {
   "codemirror_mode": {
    "name": "ipython",
    "version": 3
   },
   "file_extension": ".py",
   "mimetype": "text/x-python",
   "name": "python",
   "nbconvert_exporter": "python",
   "pygments_lexer": "ipython3",
   "version": "3.7.4"
  }
 },
 "nbformat": 4,
 "nbformat_minor": 4
}
