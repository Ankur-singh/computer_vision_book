{
 "cells": [
  {
   "cell_type": "code",
   "execution_count": 5,
   "metadata": {},
   "outputs": [
    {
     "name": "stdout",
     "output_type": "stream",
     "text": [
      "\n",
      "Inpainting images\n",
      "-----------------\n",
      "Inpainting repairs damage to images by floodfilling\n",
      "the damage with surrounding image areas.\n",
      "Usage:\n",
      "  inpaint.py <image_path>\n",
      "Keys:\n",
      "  SPACE - inpaint\n",
      "  r     - reset the inpainting mask\n",
      "  q     - exit\n",
      "\n"
     ]
    }
   ],
   "source": [
    "'''\n",
    "Inpainting images\n",
    "-----------------\n",
    "Inpainting repairs damage to images by floodfilling\n",
    "the damage with surrounding image areas.\n",
    "\n",
    "Keys:\n",
    "  SPACE - inpaint\n",
    "  r     - reset the inpainting mask\n",
    "  q     - exit\n",
    "'''\n",
    "\n",
    "import numpy as np\n",
    "import cv2\n",
    "\n",
    "class Sketcher:\n",
    "    def __init__(self, windowname, dests, colors_func):\n",
    "        self.prev_pt = None\n",
    "        self.windowname = windowname\n",
    "        self.dests = dests\n",
    "        self.colors_func = colors_func\n",
    "        self.dirty = False\n",
    "        self.show()\n",
    "        cv2.setMouseCallback(self.windowname, self.on_mouse)\n",
    "\n",
    "    def show(self):\n",
    "        cv2.imshow(self.windowname, self.dests[0])\n",
    "\n",
    "    def on_mouse(self, event, x, y, flags, param):\n",
    "        pt = (x, y)\n",
    "        if event == cv2.EVENT_LBUTTONDOWN: self.prev_pt = pt\n",
    "        elif event == cv2.EVENT_LBUTTONUP: self.prev_pt = None\n",
    "\n",
    "        if self.prev_pt and flags & cv2.EVENT_FLAG_LBUTTON:\n",
    "            for dst, color in zip(self.dests, self.colors_func()):\n",
    "                cv2.line(dst, self.prev_pt, pt, color, 5)\n",
    "            self.dirty = True\n",
    "            self.prev_pt = pt\n",
    "            self.show()\n",
    "\n",
    "def main():\n",
    "\n",
    "    img = cv2.imread('../images/messi.png')\n",
    "    if img is None:\n",
    "        print('Failed to load image file:')\n",
    "    h, w, _ = img.shape\n",
    "    img = cv2.resize(img, (w//2,h//2))\n",
    "    img_mark = img.copy()\n",
    "    mark = np.zeros(img.shape[:2], np.uint8)\n",
    "    sketch = Sketcher('img', [img_mark, mark], lambda : ((255, 255, 255), 255))\n",
    "\n",
    "    while True:\n",
    "        ch = cv2.waitKey(1)\n",
    "        if ch == ord('q'): break\n",
    "        if ch == ord(' '):\n",
    "            res = cv2.inpaint(img_mark, mark, 3, cv2.INPAINT_TELEA)\n",
    "            cv2.imshow('inpaint', res)\n",
    "        if ch == ord('r'):\n",
    "            img_mark[:] = img\n",
    "            mark[:] = 0\n",
    "            sketch.show()\n",
    "\n",
    "if __name__ == '__main__':\n",
    "    print(__doc__)\n",
    "    main()\n",
    "    cv2.destroyAllWindows()"
   ]
  }
 ],
 "metadata": {
  "kernelspec": {
   "display_name": "Python 3",
   "language": "python",
   "name": "python3"
  },
  "language_info": {
   "codemirror_mode": {
    "name": "ipython",
    "version": 3
   },
   "file_extension": ".py",
   "mimetype": "text/x-python",
   "name": "python",
   "nbconvert_exporter": "python",
   "pygments_lexer": "ipython3",
   "version": "3.7.4"
  }
 },
 "nbformat": 4,
 "nbformat_minor": 4
}
