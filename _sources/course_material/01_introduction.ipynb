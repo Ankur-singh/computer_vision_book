{
 "cells": [
  {
   "cell_type": "markdown",
   "metadata": {},
   "source": [
    "# Introduction to Computer vision\n",
    "\n",
    "According to wikipedia: \n",
    "\n",
    "> **Computer vision** is an interdisciplinary scientific field that deals with how computers can gain high-level understanding from digital images or videos. From the perspective of engineering, it seeks to understand and automate tasks that the human visual system can do.\n",
    "    \n",
    "For humans, its very easy. Most of the time it is automatic. But for computers the task of understanding images is extremely difficult.\n",
    "Why is it important?\n",
    "\n",
    "If you see, we have images and videos all around us. Giving computers the ability to understand and learn from these images and videos will allow us to automate many task. One such example of automation is self-driving cars."
   ]
  },
  {
   "cell_type": "markdown",
   "metadata": {},
   "source": [
    "## Applications of Computer Vision\n",
    "\n",
    "Computer vision is now prevalent in many areas of your life, whether you realize it or not. We apply computer vision algorithms to \n",
    "- Analyze movies\n",
    "- Football games \n",
    "- Hand gesture recognition (for sign language)\n",
    "- License plates\n",
    "- Medicine\n",
    "- Surgery \n",
    "- Military and \n",
    "- Retail\n",
    "\n",
    "We even use computer visions in space! NASA’s Mars Rover includes capabilities to model the terrain of the planet, detect obstacles in its path, and stitch together panoramic images.\n",
    "\n",
    "This list will continue to grow in the coming years. This should give you the idea of how wide the applications of the field are. Its every where!  "
   ]
  },
  {
   "cell_type": "markdown",
   "metadata": {},
   "source": [
    "## Requirements\n",
    "\n",
    "### OpenCV\n",
    "OpenCV (Open Source Computer Vision Library) is an open source computer vision and machine learning library. The library has more than 2500 optimized algorithms, which includes a comprehensive set of both classic and state-of-the-art computer vision and machine learning algorithms.\n",
    "\n",
    "It supports languages like C++, Python, and more. **OpenCV-Python** is an API for OpenCV to unleash the power of Python (simplicity) and the OpenCV C++ (performance) API at once. Python-OpenCV is just a wrapper around the original C/C++ code.\n",
    "\n",
    "This library uses **NumPy** and all its array structures convert to and from NumPy arrays. This also means we can integrate it easily with other libraries like **SciPy** and **Matplotlib** (these make use of NumPy).\n",
    "\n",
    "**Note:** During the time of development of this course, 4.4.0 is the latest version of OpenCV. All the code examples will work fine if you have the same version installed.\n",
    "\n",
    "### Numpy\n",
    "NumPy is a library for the Python programming language that (among other things) provides support for large, multidimensional arrays. Why is that important? Using NumPy, we can express images as multi-dimensional arrays. Representing images as NumPy arrays is not only computationally and resource efficient, many other image processing and machine learning libraries use NumPy array representations as well. Furthermore, by using NumPy’s built-in high-level mathematical functions, we can quickly and easily perform numerical analysis on an image.\n",
    "\n",
    "### Scipy\n",
    "SciPy adds further support for scientific and technical computing.\n",
    "\n",
    "### Matplotlib\n",
    "Matplotlib is a plotting library in python. \n",
    "\n",
    "\n",
    "Since you all are using anaconda distribution, all these library comes pre-installed along with python. So, you don't have to install anything. In-case you are using some other distribution, you can use the below commands to install all the above libraries:\n",
    "\n",
    "If you are using `pip` :\n",
    "```bash\n",
    "> pip install opencv-python\n",
    "> pip install numpy\n",
    "> pip install scipy\n",
    "> pip install matplotlib\n",
    "```\n",
    "\n",
    "If you are using `conda` :\n",
    "```bash\n",
    "> conda install -c conda-forge opencv\n",
    "```\n",
    "\n",
    "**Note:** Knowledge of python and numpy are pre-requisite for the course.\n",
    "\n",
    "Lets check our setup to make sure we have everything working."
   ]
  },
  {
   "cell_type": "code",
   "execution_count": 1,
   "metadata": {},
   "outputs": [
    {
     "name": "stdout",
     "output_type": "stream",
     "text": [
      "Python Version : \t3.8.5 (default, Aug  5 2020, 09:44:06) [MSC v.1916 64 bit (AMD64)]\n",
      "OpenCV Version : \t4.4.0\n",
      "Numpy Version :  \t1.19.1\n",
      "SciPy Version :  \t1.5.0\n",
      "Matplotlib Version : \t3.3.1\n"
     ]
    }
   ],
   "source": [
    "from utils import test_setup\n",
    "test_setup()"
   ]
  },
  {
   "cell_type": "markdown",
   "metadata": {},
   "source": [
    "In-case of any error, please contact your mentor. They will help you with the setup."
   ]
  },
  {
   "cell_type": "markdown",
   "metadata": {},
   "source": [
    "## Images \n",
    "\n",
    "Before moving any further, its very important to understand how images are stores in computers. For computers, images are nothing but matrix of numbers. \n",
    "\n",
    "**Pixel** is the smallest unit in an image. We can think of a pixel as the color or the intensity of light that appears in a given place in our image. Most pixels are represented in two ways: **grayscale** and **color**.\n",
    "- In a **grayscale** image, each pixel has a value between 0 and 255, where 0 corresponds to “black” and 255 corresponds to “white”. The values in between 0 and 255 are varying shades of gray, where values closer to 0 are darker and values closer to 255 are lighter.\n",
    "- In a **color** image, each pixel is generally represented using the RGB color space – one value for the *red* component, one for *green*, and one for *blue*. Each component has values ranging from 0 to 255. We then combine these values into an RGB tuple in the form (red, green, blue). This tuple represents our color.\n",
    "\n",
    "\n",
    "If we think of an image as a grid, each square in the grid contains a single pixel. In a black & white image, each pixel is represented by a single number (ranging from 0-255) and in-case of a color image, each pixel is represted by a pair of 3 numbers (RGB).\n",
    "\n",
    "![](../images/pixel.png)\n",
    "\n",
    "**Cordinate System**\n",
    "\n",
    "Imagine our grid as a piece of graph paper. Using this graph paper, the point [0, 0] corresponds to the upper left corner of the image. As we move **down**, the value of `y` increases and if you go towards the **right**, then the value of `x` increase, respectively.\n",
    "\n",
    "In the above image, indexes are represented using `[ ]`\n",
    "\n",
    "**Note**: The cordinate system used in computer vision is a bit different from our maths cordinate system. Instead of starting at lower-left corner, we start upper-left corner. "
   ]
  },
  {
   "cell_type": "markdown",
   "metadata": {},
   "source": [
    "Enough talking! \n",
    "\n",
    "## Coding time\n",
    "\n",
    "Just like every other library in python, to use opencv we will have to import it."
   ]
  },
  {
   "cell_type": "code",
   "execution_count": 2,
   "metadata": {},
   "outputs": [],
   "source": [
    "import cv2"
   ]
  },
  {
   "cell_type": "markdown",
   "metadata": {},
   "source": [
    "### Loading images\n",
    "we can read an image from the disk using `cv2.imread()` method. It takes an image path as input and returns a numpy array."
   ]
  },
  {
   "cell_type": "code",
   "execution_count": 3,
   "metadata": {},
   "outputs": [],
   "source": [
    "img = cv2.imread('images/yoda.jpeg')"
   ]
  },
  {
   "cell_type": "markdown",
   "metadata": {},
   "source": [
    "since, its a numpy array we can simply access the dimension using `shape` attribute "
   ]
  },
  {
   "cell_type": "code",
   "execution_count": 4,
   "metadata": {},
   "outputs": [
    {
     "data": {
      "text/plain": [
       "(900, 1200, 3)"
      ]
     },
     "execution_count": 4,
     "metadata": {},
     "output_type": "execute_result"
    }
   ],
   "source": [
    "img.shape #(height, width, channels)"
   ]
  },
  {
   "cell_type": "markdown",
   "metadata": {},
   "source": [
    "You’ll notice that the image has a width of 1200 pixels, a height of 900 pixels, and 3 channels (the RGB components of the image) is represented as a NumPy array, of shape (900, 1200, 3).\n",
    "\n",
    "**Note:** The NumPy shape may seem reversed to you (specifying the height before the width), but in terms of a matrix definition, it actually makes sense. When we define matrices, it is common to write them in the form (# of rows × # of columns). Here, our image has a height of 900 pixels (the number of rows) and a width of 1200 pixels (the number of columns) – thus, the NumPy shape makes sense (although it may seen a bit confusing at first). Understanding this different is important when working with opencv."
   ]
  },
  {
   "cell_type": "markdown",
   "metadata": {},
   "source": [
    "### Displaying images\n",
    "To display the actual image on the screen, we will use `cv2.imshow`. The first parameter is a string, the “name” of our window. The second parameter is an image object. But if you run only this command, the image will only be shown for a split second and then you will have a blank window. Hence, we will also use `cv2.waitKey` to pause the excution of the script until we press a key on our keyboard."
   ]
  },
  {
   "cell_type": "code",
   "execution_count": 7,
   "metadata": {},
   "outputs": [],
   "source": [
    "cv2.imshow('Image', img)\n",
    "cv2.waitKey(0)\n",
    "cv2.destroyAllWindows()"
   ]
  },
  {
   "cell_type": "markdown",
   "metadata": {},
   "source": [
    "Using a parameter of **0** in `cv2.waitKey`, indicates that any keypress will un-pause the execution. After displaying the image and waiting for the user, we want to destroy all the windows created by opencv. We will use `cv2.destroyAllWindows` to do that.\n",
    "\n",
    "**Note:** Whenever you have opencv windows that are not responding, you can simple call `cv2.destroyAllWindows` once and will close the windows."
   ]
  },
  {
   "cell_type": "markdown",
   "metadata": {},
   "source": [
    "### Saving images\n",
    "\n",
    "To save any image, we will use `cv2.imwrite`. The first parameter is a string, the “name” of the image. The second parameter is an image object."
   ]
  },
  {
   "cell_type": "code",
   "execution_count": 26,
   "metadata": {},
   "outputs": [
    {
     "data": {
      "text/plain": [
       "True"
      ]
     },
     "execution_count": 26,
     "metadata": {},
     "output_type": "execute_result"
    }
   ],
   "source": [
    "cv2.imwrite('new_yoda.png', img)"
   ]
  },
  {
   "cell_type": "markdown",
   "metadata": {},
   "source": [
    "OpenCV has automatically converted our JPEG image to PNG for us! No further effort is needed on our part to convert between image formats."
   ]
  },
  {
   "cell_type": "markdown",
   "metadata": {},
   "source": [
    "## Questionaire\n",
    "\n",
    "If you can answer all these questions then you have understood all the important concepts in this notebook.\n",
    "\n",
    "- What is a pixel?\n",
    "- Cordinate System used by numpy and opencv?\n",
    "- How to read images?\n",
    "- How to display them? what does `cv2.waitKey` and `cv2.destroyAllWindows` functions do? \n",
    "- How to save them?\n",
    "\n",
    "Discuss these questions with your peers and your mentors, if you have any doubt. "
   ]
  },
  {
   "cell_type": "markdown",
   "metadata": {},
   "source": [
    "In the next notebook, we will learning more about accessing individual pixel values and manupulating them. We will also learn how to draw different types of shapes."
   ]
  }
 ],
 "metadata": {
  "kernelspec": {
   "display_name": "Python 3",
   "language": "python",
   "name": "python3"
  },
  "language_info": {
   "codemirror_mode": {
    "name": "ipython",
    "version": 3
   },
   "file_extension": ".py",
   "mimetype": "text/x-python",
   "name": "python",
   "nbconvert_exporter": "python",
   "pygments_lexer": "ipython3",
   "version": "3.8.5"
  }
 },
 "nbformat": 4,
 "nbformat_minor": 4
}
